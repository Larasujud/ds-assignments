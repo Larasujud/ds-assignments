{
  "cells": [
    {
      "cell_type": "markdown",
      "metadata": {
        "id": "0180dd95-2966-4b6c-be51-a546b3990e0d"
      },
      "source": [
        "<p style=\"text-align:center\">\n",
        "    <a href=\"https://skills.network/?utm_medium=Exinfluencer&utm_source=Exinfluencer&utm_content=000026UJ&utm_term=10006555&utm_id=NA-SkillsNetwork-Channel-SkillsNetworkCoursesIBMDeveloperSkillsNetworkPY0220ENSkillsNetwork900-2022-01-01\" target=\"_blank\">\n",
        "    <img src=\"https://cf-courses-data.s3.us.cloud-object-storage.appdomain.cloud/assets/logos/SN_web_lightmode.png\" width=\"200\" alt=\"Skills Network Logo\">\n",
        "    </a>\n",
        "</p>\n"
      ]
    },
    {
      "cell_type": "markdown",
      "metadata": {
        "id": "735da23b-23bb-4ae4-9145-ccb07b6d0e37"
      },
      "source": [
        "<h1>Extracting and Visualizing Stock Data</h1>\n",
        "<h2>Description</h2>\n"
      ]
    },
    {
      "cell_type": "markdown",
      "metadata": {
        "id": "a3a6fc61-79d4-4ff4-945a-2dd5bb2ebc37"
      },
      "source": [
        "Extracting essential data from a dataset and displaying it is a necessary part of data science; therefore individuals can make correct decisions based on the data. In this assignment, you will extract some stock data, you will then display this data in a graph.\n"
      ]
    },
    {
      "cell_type": "markdown",
      "metadata": {
        "id": "b12caf5a-f240-45f8-944e-30344b21a9ca"
      },
      "source": [
        "<h2>Table of Contents</h2>\n",
        "<div class=\"alert alert-block alert-info\" style=\"margin-top: 20px\">\n",
        "    <ul>\n",
        "        <li>Define a Function that Makes a Graph</li>\n",
        "        <li>Question 1: Use yfinance to Extract Stock Data</li>\n",
        "        <li>Question 2: Use Webscraping to Extract Tesla Revenue Data</li>\n",
        "        <li>Question 3: Use yfinance to Extract Stock Data</li>\n",
        "        <li>Question 4: Use Webscraping to Extract GME Revenue Data</li>\n",
        "        <li>Question 5: Plot Tesla Stock Graph</li>\n",
        "        <li>Question 6: Plot GameStop Stock Graph</li>\n",
        "    </ul>\n",
        "<p>\n",
        "    Estimated Time Needed: <strong>30 min</strong></p>\n",
        "</div>\n",
        "\n",
        "<hr>\n"
      ]
    },
    {
      "cell_type": "markdown",
      "metadata": {
        "id": "75aecada-53f7-4c6b-afe3-bc210dc4cade"
      },
      "source": [
        "***Note***:- If you are working in IBM Cloud Watson Studio, please replace the command for installing nbformat from `!pip install nbformat==4.2.0` to simply `!pip install nbformat`\n"
      ]
    },
    {
      "cell_type": "code",
      "metadata": {
        "colab": {
          "base_uri": "https://localhost:8080/"
        },
        "id": "ca70e155-0de8-4e2b-b358-e5baa6cc7def",
        "outputId": "b9754734-7217-4702-eeb3-2e02b718fa21"
      },
      "outputs": [
        {
          "output_type": "stream",
          "name": "stdout",
          "text": [
            "Collecting yfinance==0.1.67\n",
            "  Downloading yfinance-0.1.67-py2.py3-none-any.whl (25 kB)\n",
            "Requirement already satisfied: pandas>=0.24 in /usr/local/lib/python3.10/dist-packages (from yfinance==0.1.67) (1.5.3)\n",
            "Requirement already satisfied: numpy>=1.15 in /usr/local/lib/python3.10/dist-packages (from yfinance==0.1.67) (1.25.2)\n",
            "Requirement already satisfied: requests>=2.20 in /usr/local/lib/python3.10/dist-packages (from yfinance==0.1.67) (2.31.0)\n",
            "Requirement already satisfied: multitasking>=0.0.7 in /usr/local/lib/python3.10/dist-packages (from yfinance==0.1.67) (0.0.11)\n",
            "Requirement already satisfied: lxml>=4.5.1 in /usr/local/lib/python3.10/dist-packages (from yfinance==0.1.67) (4.9.4)\n",
            "Requirement already satisfied: python-dateutil>=2.8.1 in /usr/local/lib/python3.10/dist-packages (from pandas>=0.24->yfinance==0.1.67) (2.8.2)\n",
            "Requirement already satisfied: pytz>=2020.1 in /usr/local/lib/python3.10/dist-packages (from pandas>=0.24->yfinance==0.1.67) (2023.4)\n",
            "Requirement already satisfied: charset-normalizer<4,>=2 in /usr/local/lib/python3.10/dist-packages (from requests>=2.20->yfinance==0.1.67) (3.3.2)\n",
            "Requirement already satisfied: idna<4,>=2.5 in /usr/local/lib/python3.10/dist-packages (from requests>=2.20->yfinance==0.1.67) (3.6)\n",
            "Requirement already satisfied: urllib3<3,>=1.21.1 in /usr/local/lib/python3.10/dist-packages (from requests>=2.20->yfinance==0.1.67) (2.0.7)\n",
            "Requirement already satisfied: certifi>=2017.4.17 in /usr/local/lib/python3.10/dist-packages (from requests>=2.20->yfinance==0.1.67) (2024.2.2)\n",
            "Requirement already satisfied: six>=1.5 in /usr/local/lib/python3.10/dist-packages (from python-dateutil>=2.8.1->pandas>=0.24->yfinance==0.1.67) (1.16.0)\n",
            "Installing collected packages: yfinance\n",
            "  Attempting uninstall: yfinance\n",
            "    Found existing installation: yfinance 0.2.37\n",
            "    Uninstalling yfinance-0.2.37:\n",
            "      Successfully uninstalled yfinance-0.2.37\n",
            "Successfully installed yfinance-0.1.67\n",
            "/bin/bash: line 1: mamba: command not found\n",
            "Collecting nbformat==4.2.0\n",
            "  Downloading nbformat-4.2.0-py2.py3-none-any.whl (153 kB)\n",
            "\u001b[2K     \u001b[90m━━━━━━━━━━━━━━━━━━━━━━━━━━━━━━━━━━━━━━━━\u001b[0m \u001b[32m153.3/153.3 kB\u001b[0m \u001b[31m2.6 MB/s\u001b[0m eta \u001b[36m0:00:00\u001b[0m\n",
            "\u001b[?25hRequirement already satisfied: ipython-genutils in /usr/local/lib/python3.10/dist-packages (from nbformat==4.2.0) (0.2.0)\n",
            "Requirement already satisfied: jsonschema!=2.5.0,>=2.4 in /usr/local/lib/python3.10/dist-packages (from nbformat==4.2.0) (4.19.2)\n",
            "Requirement already satisfied: jupyter-core in /usr/local/lib/python3.10/dist-packages (from nbformat==4.2.0) (5.7.1)\n",
            "Requirement already satisfied: traitlets>=4.1 in /usr/local/lib/python3.10/dist-packages (from nbformat==4.2.0) (5.7.1)\n",
            "Requirement already satisfied: attrs>=22.2.0 in /usr/local/lib/python3.10/dist-packages (from jsonschema!=2.5.0,>=2.4->nbformat==4.2.0) (23.2.0)\n",
            "Requirement already satisfied: jsonschema-specifications>=2023.03.6 in /usr/local/lib/python3.10/dist-packages (from jsonschema!=2.5.0,>=2.4->nbformat==4.2.0) (2023.12.1)\n",
            "Requirement already satisfied: referencing>=0.28.4 in /usr/local/lib/python3.10/dist-packages (from jsonschema!=2.5.0,>=2.4->nbformat==4.2.0) (0.33.0)\n",
            "Requirement already satisfied: rpds-py>=0.7.1 in /usr/local/lib/python3.10/dist-packages (from jsonschema!=2.5.0,>=2.4->nbformat==4.2.0) (0.18.0)\n",
            "Requirement already satisfied: platformdirs>=2.5 in /usr/local/lib/python3.10/dist-packages (from jupyter-core->nbformat==4.2.0) (4.2.0)\n",
            "Installing collected packages: nbformat\n",
            "  Attempting uninstall: nbformat\n",
            "    Found existing installation: nbformat 5.9.2\n",
            "    Uninstalling nbformat-5.9.2:\n",
            "      Successfully uninstalled nbformat-5.9.2\n",
            "\u001b[31mERROR: pip's dependency resolver does not currently take into account all the packages that are installed. This behaviour is the source of the following dependency conflicts.\n",
            "jupyter-server 1.24.0 requires nbformat>=5.2.0, but you have nbformat 4.2.0 which is incompatible.\n",
            "nbclient 0.9.0 requires nbformat>=5.1, but you have nbformat 4.2.0 which is incompatible.\n",
            "nbconvert 6.5.4 requires nbformat>=5.1, but you have nbformat 4.2.0 which is incompatible.\u001b[0m\u001b[31m\n",
            "\u001b[0mSuccessfully installed nbformat-4.2.0\n"
          ]
        }
      ],
      "source": [
        "!pip install yfinance==0.1.67\n",
        "!mamba install bs4==4.10.0 -y\n",
        "!pip install nbformat==4.2.0"
      ],
      "execution_count": 1
    },
    {
      "cell_type": "code",
      "metadata": {
        "id": "0f46de11-c8f9-46f7-9d0d-bd449cb080dd"
      },
      "outputs": [],
      "source": [
        "import yfinance as yf\n",
        "import pandas as pd\n",
        "import requests\n",
        "from bs4 import BeautifulSoup\n",
        "import plotly.graph_objects as go\n",
        "from plotly.subplots import make_subplots"
      ],
      "execution_count": 2
    },
    {
      "cell_type": "markdown",
      "metadata": {
        "id": "91b40b0f-942e-42b1-bcd7-268817e5e8df"
      },
      "source": [
        "In Python, you can ignore warnings using the warnings module. You can use the filterwarnings function to filter or ignore specific warning messages or categories.\n"
      ]
    },
    {
      "cell_type": "code",
      "metadata": {
        "id": "eef5d73e-361e-4791-8458-6a1ed86818fe"
      },
      "outputs": [],
      "source": [
        "import warnings\n",
        "# Ignore all warnings\n",
        "warnings.filterwarnings(\"ignore\", category=FutureWarning)"
      ],
      "execution_count": 3
    },
    {
      "cell_type": "markdown",
      "metadata": {
        "id": "c58cfe8c-3b59-41a0-9e3a-f337e0e405ce"
      },
      "source": [
        "## Define Graphing Function\n"
      ]
    },
    {
      "cell_type": "markdown",
      "metadata": {
        "id": "1dc6bae8-d0cc-412a-8fc5-5ce7478d8464"
      },
      "source": [
        "In this section, we define the function `make_graph`. You don't have to know how the function works, you should only care about the inputs. It takes a dataframe with stock data (dataframe must contain Date and Close columns), a dataframe with revenue data (dataframe must contain Date and Revenue columns), and the name of the stock.\n"
      ]
    },
    {
      "cell_type": "code",
      "metadata": {
        "id": "e1e2f62c-0f23-4993-927e-fefc31750992"
      },
      "outputs": [],
      "source": [
        "def make_graph(stock_data, revenue_data, stock):\n",
        "    fig = make_subplots(rows=2, cols=1, shared_xaxes=True, subplot_titles=(\"Historical Share Price\", \"Historical Revenue\"), vertical_spacing = .3)\n",
        "    stock_data_specific = stock_data[stock_data.Date <= '2021--06-14']\n",
        "    revenue_data_specific = revenue_data[revenue_data.Date <= '2021-04-30']\n",
        "    fig.add_trace(go.Scatter(x=pd.to_datetime(stock_data_specific.Date, infer_datetime_format=True), y=stock_data_specific.Close.astype(\"float\"), name=\"Share Price\"), row=1, col=1)\n",
        "    fig.add_trace(go.Scatter(x=pd.to_datetime(revenue_data_specific.Date, infer_datetime_format=True), y=revenue_data_specific.Revenue.astype(\"float\"), name=\"Revenue\"), row=2, col=1)\n",
        "    fig.update_xaxes(title_text=\"Date\", row=1, col=1)\n",
        "    fig.update_xaxes(title_text=\"Date\", row=2, col=1)\n",
        "    fig.update_yaxes(title_text=\"Price ($US)\", row=1, col=1)\n",
        "    fig.update_yaxes(title_text=\"Revenue ($US Millions)\", row=2, col=1)\n",
        "    fig.update_layout(showlegend=False,\n",
        "    height=900,\n",
        "    title=stock,\n",
        "    xaxis_rangeslider_visible=True)\n",
        "    fig.show()"
      ],
      "execution_count": 58
    },
    {
      "cell_type": "markdown",
      "metadata": {
        "id": "6671cf89-13b4-428c-a9c0-e032020bcf1b"
      },
      "source": [
        "## Question 1: Use yfinance to Extract Stock Data\n"
      ]
    },
    {
      "cell_type": "markdown",
      "metadata": {
        "id": "ee9f3dea-a42a-450f-afac-40ecc69c10d2"
      },
      "source": [
        "Using the `Ticker` function enter the ticker symbol of the stock we want to extract data on to create a ticker object. The stock is Tesla and its ticker symbol is `TSLA`.\n"
      ]
    },
    {
      "cell_type": "code",
      "metadata": {
        "id": "03772d6c-bae6-4c64-a07e-9ccb5ff8842f"
      },
      "outputs": [],
      "source": [
        "tesla = yf.Ticker(\"TSLA\")"
      ],
      "execution_count": 4
    },
    {
      "cell_type": "markdown",
      "metadata": {
        "id": "75d91b47-dff8-42b8-b19d-0c12d8950e69"
      },
      "source": [
        "Using the ticker object and the function `history` extract stock information and save it in a dataframe named `tesla_data`. Set the `period` parameter to `max` so we get information for the maximum amount of time.\n"
      ]
    },
    {
      "cell_type": "code",
      "metadata": {
        "id": "8be18079-8b77-4e4d-ae11-7480930963ce"
      },
      "outputs": [],
      "source": [
        "tesla_data = tesla.history(period=\"max\")"
      ],
      "execution_count": 5
    },
    {
      "cell_type": "markdown",
      "metadata": {
        "id": "08b32893-7b6b-4427-8b99-aec7d5906170"
      },
      "source": [
        "**Reset the index** using the `reset_index(inplace=True)` function on the tesla_data DataFrame and display the first five rows of the `tesla_data` dataframe using the `head` function. Take a screenshot of the results and code from the beginning of Question 1 to the results below.\n"
      ]
    },
    {
      "cell_type": "code",
      "metadata": {
        "colab": {
          "base_uri": "https://localhost:8080/"
        },
        "id": "17808576-51a7-48aa-b507-4b77512906f0",
        "outputId": "ad0d8d44-afc7-4174-a698-f10c3e8b7723"
      },
      "outputs": [
        {
          "output_type": "stream",
          "name": "stdout",
          "text": [
            "                       Date      Open      High       Low     Close  \\\n",
            "0 2010-06-29 00:00:00-04:00  1.266667  1.666667  1.169333  1.592667   \n",
            "1 2010-06-30 00:00:00-04:00  1.719333  2.028000  1.553333  1.588667   \n",
            "2 2010-07-01 00:00:00-04:00  1.666667  1.728000  1.351333  1.464000   \n",
            "3 2010-07-02 00:00:00-04:00  1.533333  1.540000  1.247333  1.280000   \n",
            "4 2010-07-06 00:00:00-04:00  1.333333  1.333333  1.055333  1.074000   \n",
            "\n",
            "      Volume  Dividends  Stock Splits  \n",
            "0  281494500        0.0           0.0  \n",
            "1  257806500        0.0           0.0  \n",
            "2  123282000        0.0           0.0  \n",
            "3   77097000        0.0           0.0  \n",
            "4  103003500        0.0           0.0  \n"
          ]
        }
      ],
      "source": [
        "tesla_data.reset_index(inplace=True)\n",
        "print(tesla_data.head())"
      ],
      "execution_count": 6
    },
    {
      "cell_type": "markdown",
      "metadata": {
        "id": "7c677e89-bc3d-4013-8804-8eb144dacf90"
      },
      "source": [
        "## Question 2: Use Webscraping to Extract Tesla Revenue Data\n"
      ]
    },
    {
      "cell_type": "markdown",
      "metadata": {
        "id": "0f586f31-b5d3-4d87-873e-dd7039e579a7"
      },
      "source": [
        "Use the `requests` library to download the webpage https://cf-courses-data.s3.us.cloud-object-storage.appdomain.cloud/IBMDeveloperSkillsNetwork-PY0220EN-SkillsNetwork/labs/project/revenue.htm Save the text of the response as a variable named `html_data`.\n"
      ]
    },
    {
      "cell_type": "code",
      "metadata": {
        "id": "96e035f8-1ac8-46a2-baf7-a61cf244377a"
      },
      "outputs": [],
      "source": [
        "url = \" https://cf-courses-data.s3.us.cloud-object-storage.appdomain.cloud/IBMDeveloperSkillsNetwork-PY0220EN-SkillsNetwork/labs/project/revenue.htm\"\n",
        "html_data = requests.get(url)"
      ],
      "execution_count": 11
    },
    {
      "cell_type": "markdown",
      "metadata": {
        "id": "d655373e-8b19-484d-9152-ba3b1bf2181c"
      },
      "source": [
        "\n",
        "\n",
        "```\n",
        "# This is formatted as code\n",
        "```\n",
        "\n",
        "Parse the html data using `beautiful_soup`.\n"
      ]
    },
    {
      "cell_type": "code",
      "metadata": {
        "id": "6d42ca32-e634-474b-a648-26b403b48a97"
      },
      "outputs": [],
      "source": [
        "soup=BeautifulSoup(html_data.content, 'html.parser')"
      ],
      "execution_count": 12
    },
    {
      "cell_type": "markdown",
      "metadata": {
        "id": "6ae5721e-ff47-4625-8021-f0b32ed22300"
      },
      "source": [
        "Using `BeautifulSoup` or the `read_html` function extract the table with `Tesla Revenue` and store it into a dataframe named `tesla_revenue`. The dataframe should have columns `Date` and `Revenue`.\n"
      ]
    },
    {
      "cell_type": "markdown",
      "metadata": {
        "id": "86d74364-9615-4a74-9281-62696979ea9b"
      },
      "source": [
        "<details><summary>Click here if you need help locating the table</summary>\n",
        "\n",
        "```\n",
        "    \n",
        "Below is the code to isolate the table, you will now need to loop through the rows and columns like in the previous lab\n",
        "    \n",
        "soup.find_all(\"tbody\")[1]\n",
        "    \n",
        "If you want to use the read_html function the table is located at index 1\n",
        "\n",
        "We are focusing on quarterly revenue in the lab.\n",
        "```\n",
        "\n",
        "</details>\n"
      ]
    },
    {
      "cell_type": "code",
      "metadata": {
        "id": "41ef172c-9cd3-49b1-a04c-3b88a7793883"
      },
      "outputs": [],
      "source": [
        "table = soup.find_all(\"tbody\")[1]"
      ],
      "execution_count": 15
    },
    {
      "cell_type": "code",
      "source": [
        "print(table)"
      ],
      "metadata": {
        "id": "EZ6UVnQHj--5"
      },
      "execution_count": null,
      "outputs": []
    },
    {
      "cell_type": "code",
      "source": [
        "rows = table.find_all(\"tr\")\n",
        "data = []\n",
        "\n",
        "for row in rows:\n",
        "        columns = row.find_all([\"th\", \"td\"])\n",
        "        columns = [column.get_text(strip=True) for column in columns]\n",
        "        data.append(columns)\n",
        "\n",
        "tesla_revenue = pd.DataFrame(data, columns=[\"Date\", \"Revenue\"])\n",
        "print(tesla_revenue)"
      ],
      "metadata": {
        "id": "KSkVMe3_jsii"
      },
      "execution_count": null,
      "outputs": []
    },
    {
      "cell_type": "markdown",
      "metadata": {
        "id": "d24568c4-12df-47fe-9380-d7bdf63ebc41"
      },
      "source": [
        "Execute the following line to remove the comma and dollar sign from the `Revenue` column.\n"
      ]
    },
    {
      "cell_type": "code",
      "metadata": {
        "colab": {
          "base_uri": "https://localhost:8080/"
        },
        "id": "91a83c46-2b19-4f20-9cb6-0a01ba528251",
        "outputId": "23415a0a-3dc5-43ed-cc70-50ff31cc92eb"
      },
      "outputs": [
        {
          "output_type": "stream",
          "name": "stderr",
          "text": [
            "<ipython-input-22-2aef5327de36>:1: FutureWarning: The default value of regex will change from True to False in a future version.\n",
            "  tesla_revenue[\"Revenue\"] = tesla_revenue['Revenue'].str.replace(',|\\$',\"\")\n"
          ]
        }
      ],
      "source": [
        "tesla_revenue[\"Revenue\"] = tesla_revenue['Revenue'].str.replace(',|\\$',\"\")"
      ],
      "execution_count": 22
    },
    {
      "cell_type": "markdown",
      "metadata": {
        "id": "5d7a626d-9ae6-4f3c-bf84-1e5c1e3bff56"
      },
      "source": [
        "Execute the following lines to remove an null or empty strings in the Revenue column.\n"
      ]
    },
    {
      "cell_type": "code",
      "metadata": {
        "id": "cbd57452-0e9e-44be-9441-d9670c6bb2af"
      },
      "outputs": [],
      "source": [
        "tesla_revenue[\"Revenue\"] = tesla_revenue['Revenue'].str.replace(',|\\$',\"\")\n",
        "tesla_revenue.dropna(inplace=True)\n",
        "\n",
        "tesla_revenue = tesla_revenue[tesla_revenue['Revenue'] != \"\"]"
      ],
      "execution_count": 23
    },
    {
      "cell_type": "markdown",
      "metadata": {
        "id": "07379593-e6e7-403b-8bfe-e715ed0745eb"
      },
      "source": [
        "Display the last 5 row of the `tesla_revenue` dataframe using the `tail` function. Take a screenshot of the results.\n"
      ]
    },
    {
      "cell_type": "code",
      "metadata": {
        "colab": {
          "base_uri": "https://localhost:8080/"
        },
        "id": "c7c0c09b-99ab-4e41-84b4-14170e5d7b6d",
        "outputId": "a7ae7bb3-588d-4271-9f78-59a7d52fb31e"
      },
      "outputs": [
        {
          "output_type": "stream",
          "name": "stdout",
          "text": [
            "          Date Revenue\n",
            "48  2010-09-30      31\n",
            "49  2010-06-30      28\n",
            "50  2010-03-31      21\n",
            "52  2009-09-30      46\n",
            "53  2009-06-30      27\n"
          ]
        }
      ],
      "source": [
        "print(tesla_revenue.tail())"
      ],
      "execution_count": 24
    },
    {
      "cell_type": "markdown",
      "metadata": {
        "id": "c876a1d8-20be-4584-9e75-492b64b58190"
      },
      "source": [
        "## Question 3: Use yfinance to Extract Stock Data\n"
      ]
    },
    {
      "cell_type": "markdown",
      "metadata": {
        "id": "3a2f63d1-81e5-4b1c-8a6e-d9585e1cfbdd"
      },
      "source": [
        "Using the `Ticker` function enter the ticker symbol of the stock we want to extract data on to create a ticker object. The stock is GameStop and its ticker symbol is `GME`.\n"
      ]
    },
    {
      "cell_type": "code",
      "metadata": {
        "colab": {
          "base_uri": "https://localhost:8080/"
        },
        "id": "4f281b64-4b7c-42cd-bad7-5daf788696f3",
        "outputId": "9c8baf0d-ab63-4e21-9e74-003e2a54d2c2"
      },
      "outputs": [
        {
          "output_type": "stream",
          "name": "stdout",
          "text": [
            "yfinance.Ticker object <GME>\n"
          ]
        }
      ],
      "source": [
        "gamestop = yf.Ticker(\"GME\")\n",
        "print(gamestop)"
      ],
      "execution_count": 26
    },
    {
      "cell_type": "markdown",
      "metadata": {
        "id": "fe9d69d9-2f44-425b-9de4-e3d9d698726d"
      },
      "source": [
        "Using the ticker object and the function `history` extract stock information and save it in a dataframe named `gme_data`. Set the `period` parameter to `max` so we get information for the maximum amount of time.\n"
      ]
    },
    {
      "cell_type": "code",
      "metadata": {
        "id": "76f3fabe-0563-40e2-9978-40038fbfc2e6"
      },
      "outputs": [],
      "source": [
        "gme_data = gamestop.history(period=\"max\")"
      ],
      "execution_count": 31
    },
    {
      "cell_type": "markdown",
      "metadata": {
        "id": "af2ee388-58f7-4c86-b8ca-ac4321537d74"
      },
      "source": [
        "**Reset the index** using the `reset_index(inplace=True)` function on the gme_data DataFrame and display the first five rows of the `gme_data` dataframe using the `head` function. Take a screenshot of the results and code from the beginning of Question 3 to the results below.\n"
      ]
    },
    {
      "cell_type": "code",
      "metadata": {
        "id": "dc32fce4-3a7c-4c6b-95db-d00bb034be64"
      },
      "outputs": [],
      "source": [
        "gme_data.reset_index(inplace=True)"
      ],
      "execution_count": 29
    },
    {
      "cell_type": "code",
      "source": [
        "print(gme_data.head())"
      ],
      "metadata": {
        "colab": {
          "base_uri": "https://localhost:8080/"
        },
        "id": "2qlMlw3ulkEs",
        "outputId": "3be7c0cb-2e56-4cb6-c2e5-2ebeb715b192"
      },
      "execution_count": 30,
      "outputs": [
        {
          "output_type": "stream",
          "name": "stdout",
          "text": [
            "                       Date      Open      High       Low     Close    Volume  \\\n",
            "0 2002-02-13 00:00:00-05:00  1.620129  1.693350  1.603296  1.691667  76216000   \n",
            "1 2002-02-14 00:00:00-05:00  1.712707  1.716074  1.670626  1.683251  11021600   \n",
            "2 2002-02-15 00:00:00-05:00  1.683250  1.687458  1.658001  1.674834   8389600   \n",
            "3 2002-02-19 00:00:00-05:00  1.666418  1.666418  1.578047  1.607504   7410400   \n",
            "4 2002-02-20 00:00:00-05:00  1.615921  1.662210  1.603296  1.662210   6892800   \n",
            "\n",
            "   Dividends  Stock Splits  \n",
            "0        0.0           0.0  \n",
            "1        0.0           0.0  \n",
            "2        0.0           0.0  \n",
            "3        0.0           0.0  \n",
            "4        0.0           0.0  \n"
          ]
        }
      ]
    },
    {
      "cell_type": "markdown",
      "metadata": {
        "id": "a5319525-a1da-4c91-8203-e0a0e04d4fb5"
      },
      "source": [
        "## Question 4: Use Webscraping to Extract GME Revenue Data\n"
      ]
    },
    {
      "cell_type": "markdown",
      "metadata": {
        "id": "efbcd5d7-cd44-4dc2-a20f-5a79bddf8ea7"
      },
      "source": [
        "Use the `requests` library to download the webpage https://cf-courses-data.s3.us.cloud-object-storage.appdomain.cloud/IBMDeveloperSkillsNetwork-PY0220EN-SkillsNetwork/labs/project/stock.html. Save the text of the response as a variable named `html_data`.\n"
      ]
    },
    {
      "cell_type": "code",
      "metadata": {
        "id": "a60f1017-c668-4e16-a0ef-0011d071950d"
      },
      "outputs": [],
      "source": [
        "url = \" https://cf-courses-data.s3.us.cloud-object-storage.appdomain.cloud/IBMDeveloperSkillsNetwork-PY0220EN-SkillsNetwork/labs/project/stock.html\"\n",
        "html_data = requests.get(url)\n"
      ],
      "execution_count": 40
    },
    {
      "cell_type": "markdown",
      "metadata": {
        "id": "ecf31ab0-49d8-468b-987e-aa310ae73278"
      },
      "source": [
        "**Parse** the html data using `beautiful_soup`.\n"
      ]
    },
    {
      "cell_type": "code",
      "metadata": {
        "id": "54b0afca-76a4-4a83-938b-26b37c97d8a6"
      },
      "outputs": [],
      "source": [
        "soup = BeautifulSoup(html_data.content, 'html.parser')\n"
      ],
      "execution_count": 41
    },
    {
      "cell_type": "markdown",
      "metadata": {
        "id": "ec3f8f87-4c45-4859-ae85-b1a33be039a7"
      },
      "source": [
        "Using `BeautifulSoup` or the `read_html` function extract the table with `GameStop Revenue` and store it into a dataframe named `gme_revenue`. The dataframe should have columns `Date` and `Revenue`. Make sure the comma and dollar sign is removed from the `Revenue` column using a method similar to what you did in Question 2.\n"
      ]
    },
    {
      "cell_type": "markdown",
      "metadata": {
        "id": "d242c4ad-b444-457c-a47a-d14cd55c9e1c"
      },
      "source": [
        "<details><summary>Click here if you need help locating the table</summary>\n",
        "\n",
        "```\n",
        "    \n",
        "Below is the code to isolate the table, you will now need to loop through the rows and columns like in the previous lab\n",
        "    \n",
        "soup.find_all(\"tbody\")[1]\n",
        "    \n",
        "If you want to use the read_html function the table is located at index 1\n",
        "\n",
        "\n",
        "```\n",
        "\n",
        "</details>\n"
      ]
    },
    {
      "cell_type": "code",
      "metadata": {
        "id": "f76fd90c-dfd1-48bf-aef7-a82bfffd2661"
      },
      "outputs": [],
      "source": [
        "table = soup.find_all(\"tbody\")[1]"
      ],
      "execution_count": 43
    },
    {
      "cell_type": "code",
      "source": [
        "rows = table.find_all(\"tr\")\n",
        "data = []\n",
        "\n",
        "for row in rows:\n",
        "        columns = row.find_all([\"th\", \"td\"])\n",
        "        columns = [column.get_text(strip=True) for column in columns]\n",
        "        data.append(columns)\n",
        "\n",
        "gme_revenue = pd.DataFrame(data, columns=[\"Date\", \"Revenue\"])\n",
        "print(gme_revenue)"
      ],
      "metadata": {
        "colab": {
          "base_uri": "https://localhost:8080/"
        },
        "id": "1-u9iqh0mvwV",
        "outputId": "5e4071a0-e677-452f-aa6b-fb747e4c73e7"
      },
      "execution_count": 44,
      "outputs": [
        {
          "output_type": "stream",
          "name": "stdout",
          "text": [
            "          Date Revenue\n",
            "0   2020-04-30  $1,021\n",
            "1   2020-01-31  $2,194\n",
            "2   2019-10-31  $1,439\n",
            "3   2019-07-31  $1,286\n",
            "4   2019-04-30  $1,548\n",
            "..         ...     ...\n",
            "57  2006-01-31  $1,667\n",
            "58  2005-10-31    $534\n",
            "59  2005-07-31    $416\n",
            "60  2005-04-30    $475\n",
            "61  2005-01-31    $709\n",
            "\n",
            "[62 rows x 2 columns]\n"
          ]
        }
      ]
    },
    {
      "cell_type": "markdown",
      "metadata": {
        "id": "a776b8ea-31e6-4929-89d8-aa45ac80a472"
      },
      "source": [
        "Display the last five rows of the `gme_revenue` dataframe using the `tail` function. Take a screenshot of the results.\n"
      ]
    },
    {
      "cell_type": "code",
      "source": [
        "gme_revenue[\"Revenue\"] = gme_revenue['Revenue'].str.replace(',|\\$',\"\")\n",
        "gme_revenue.dropna(inplace=True)\n",
        "\n",
        "gme_revenue = gme_revenue[gme_revenue['Revenue'] != \"\"]"
      ],
      "metadata": {
        "colab": {
          "base_uri": "https://localhost:8080/"
        },
        "id": "CPvX8HrHnBK5",
        "outputId": "85dd3390-e63b-429a-ef82-91abfd777f7c"
      },
      "execution_count": 45,
      "outputs": [
        {
          "output_type": "stream",
          "name": "stderr",
          "text": [
            "<ipython-input-45-1c31e4ecf790>:1: FutureWarning: The default value of regex will change from True to False in a future version.\n",
            "  gme_revenue[\"Revenue\"] = gme_revenue['Revenue'].str.replace(',|\\$',\"\")\n"
          ]
        }
      ]
    },
    {
      "cell_type": "code",
      "metadata": {
        "colab": {
          "base_uri": "https://localhost:8080/"
        },
        "id": "3951f08f-f166-47c4-850b-7b89e3a6fd85",
        "outputId": "dd8ec9b9-0902-4eec-f49e-5cd7c84d8b22"
      },
      "outputs": [
        {
          "output_type": "stream",
          "name": "stdout",
          "text": [
            "          Date Revenue\n",
            "57  2006-01-31    1667\n",
            "58  2005-10-31     534\n",
            "59  2005-07-31     416\n",
            "60  2005-04-30     475\n",
            "61  2005-01-31     709\n"
          ]
        }
      ],
      "source": [
        "print(gme_revenue.tail())"
      ],
      "execution_count": 47
    },
    {
      "cell_type": "markdown",
      "metadata": {
        "id": "50a7a813-09af-41bc-9b86-7771e5a95d99"
      },
      "source": [
        "## Question 5: Plot Tesla Stock Graph\n"
      ]
    },
    {
      "cell_type": "markdown",
      "metadata": {
        "id": "440d03d4-4554-4a27-95ad-4ba2f4ae3244"
      },
      "source": [
        "Use the `make_graph` function to graph the Tesla Stock Data, also provide a title for the graph. The structure to call the `make_graph` function is `make_graph(tesla_data, tesla_revenue, 'Tesla')`. Note the graph will only show data upto June 2021.\n"
      ]
    },
    {
      "cell_type": "code",
      "source": [
        "def make_graph(stock_data, revenue_data, stock):\n",
        "    fig = make_subplots(rows=2, cols=1, shared_xaxes=True, subplot_titles=(\"Historical Share Price\", \"Historical Revenue\"), vertical_spacing = .3)\n",
        "    stock_data_specific = stock_data[stock_data.Date <= '2021--06-14']\n",
        "    revenue_data_specific = revenue_data[revenue_data.Date <= '2021-04-30']\n",
        "    fig.add_trace(go.Scatter(x=pd.to_datetime(stock_data_specific.Date, infer_datetime_format=True), y=stock_data_specific.Close.astype(\"float\"), name=\"Share Price\"), row=1, col=1)\n",
        "    fig.add_trace(go.Scatter(x=pd.to_datetime(revenue_data_specific.Date, infer_datetime_format=True), y=revenue_data_specific.Revenue.astype(\"float\"), name=\"Revenue\"), row=2, col=1)\n",
        "    fig.update_xaxes(title_text=\"Date\", row=1, col=1)\n",
        "    fig.update_xaxes(title_text=\"Date\", row=2, col=1)\n",
        "    fig.update_yaxes(title_text=\"Price ($US)\", row=1, col=1)\n",
        "    fig.update_yaxes(title_text=\"Revenue ($US Millions)\", row=2, col=1)\n",
        "    fig.update_layout(showlegend=False,\n",
        "    height=900,\n",
        "    title=stock,\n",
        "    xaxis_rangeslider_visible=True)\n",
        "    fig.show()"
      ],
      "metadata": {
        "id": "OFSaAPi4oe19"
      },
      "execution_count": 64,
      "outputs": []
    },
    {
      "cell_type": "code",
      "source": [
        "make_graph(tesla_data, tesla_revenue, 'Tesla')"
      ],
      "metadata": {
        "id": "ggqTX8vzrjJs",
        "outputId": "b1315f08-1d8d-4c93-e105-a9e33e366887",
        "colab": {
          "base_uri": "https://localhost:8080/",
          "height": 564
        }
      },
      "execution_count": 80,
      "outputs": [
        {
          "output_type": "display_data",
          "data": {
            "text/plain": [
              "<Figure size 1000x600 with 2 Axes>"
            ],
            "image/png": "[encoded data removed]"
          },
          "metadata": {}
        }
      ]
    },
    {
      "cell_type": "markdown",
      "metadata": {
        "id": "8f747932-6c8d-432b-b1ce-f02bd6ea6cb4"
      },
      "source": [
        "## Question 6: Plot GameStop Stock Graph\n"
      ]
    },
    {
      "cell_type": "markdown",
      "metadata": {
        "id": "5a0d2a1a-f9b7-47c6-91fa-f0e3edd8614b"
      },
      "source": [
        "Use the `make_graph` function to graph the GameStop Stock Data, also provide a title for the graph. The structure to call the `make_graph` function is `make_graph(gme_data, gme_revenue, 'GameStop')`. Note the graph will only show data upto June 2021.\n"
      ]
    },
    {
      "cell_type": "code",
      "source": [
        "make_graph(gme_data, gme_revenue, 'GameStop')"
      ],
      "metadata": {
        "id": "doniotjaqeVT",
        "outputId": "627228f3-65cb-4ac7-8db9-9e03a67de497",
        "colab": {
          "base_uri": "https://localhost:8080/",
          "height": 609
        }
      },
      "execution_count": 77,
      "outputs": [
        {
          "output_type": "display_data",
          "data": {
            "text/plain": [
              "<Figure size 1000x600 with 2 Axes>"
            ],
            "image/png": "[encoded data removed]"
          },
          "metadata": {}
        }
      ]
    },
    {
      "cell_type": "code",
      "metadata": {
        "colab": {
          "base_uri": "https://localhost:8080/"
        },
        "id": "0dc2dedb-3cea-4859-ba3d-c157a9e61ad0",
        "outputId": "623090c4-23ae-42be-8cf3-a1da14ac885c"
      },
      "outputs": [
        {
          "output_type": "stream",
          "name": "stdout",
          "text": [
            "                               Open      High       Low     Close    Volume  \\\n",
            "Date                                                                          \n",
            "2002-02-13 00:00:00-05:00  1.620128  1.693349  1.603295  1.691666  76216000   \n",
            "2002-02-14 00:00:00-05:00  1.712707  1.716074  1.670626  1.683250  11021600   \n",
            "2002-02-15 00:00:00-05:00  1.683250  1.687458  1.658002  1.674834   8389600   \n",
            "2002-02-19 00:00:00-05:00  1.666418  1.666418  1.578047  1.607504   7410400   \n",
            "2002-02-20 00:00:00-05:00  1.615920  1.662209  1.603295  1.662209   6892800   \n",
            "\n",
            "                           Dividends  Stock Splits  \n",
            "Date                                                \n",
            "2002-02-13 00:00:00-05:00        0.0           0.0  \n",
            "2002-02-14 00:00:00-05:00        0.0           0.0  \n",
            "2002-02-15 00:00:00-05:00        0.0           0.0  \n",
            "2002-02-19 00:00:00-05:00        0.0           0.0  \n",
            "2002-02-20 00:00:00-05:00        0.0           0.0  \n",
            "         Date Revenue\n",
            "0  2020-04-30    1021\n",
            "1  2020-01-31    2194\n",
            "2  2019-10-31    1439\n",
            "3  2019-07-31    1286\n",
            "4  2019-04-30    1548\n"
          ]
        }
      ],
      "source": [
        "print(gme_data.head())\n",
        "print(gme_revenue.head())"
      ],
      "execution_count": 81
    },
    {
      "cell_type": "markdown",
      "metadata": {
        "id": "5e991690-36a3-4e2f-9bf2-08a05468c4f1"
      },
      "source": [
        "<h2>About the Authors:</h2>\n",
        "\n",
        "<a href=\"https://www.linkedin.com/in/joseph-s-50398b136/\">Joseph Santarcangelo</a> has a PhD in Electrical Engineering, his research focused on using machine learning, signal processing, and computer vision to determine how videos impact human cognition. Joseph has been working for IBM since he completed his PhD.\n",
        "\n",
        "Azim Hirjani\n"
      ]
    },
    {
      "cell_type": "markdown",
      "metadata": {
        "id": "57c0423d-f53c-45c2-afcc-5b2f14466917"
      },
      "source": [
        "## Change Log\n",
        "\n",
        "| Date (YYYY-MM-DD) | Version | Changed By    | Change Description        |\n",
        "| ----------------- | ------- | ------------- | ------------------------- |\n",
        "| 2022-02-28        | 1.2     | Lakshmi Holla | Changed the URL of GameStop |\n",
        "| 2020-11-10        | 1.1     | Malika Singla | Deleted the Optional part |\n",
        "| 2020-08-27        | 1.0     | Malika Singla | Added lab to GitLab       |\n",
        "\n",
        "<hr>\n",
        "\n",
        "## <h3 align=\"center\"> © IBM Corporation 2020. All rights reserved. <h3/>\n",
        "\n",
        "<p>\n"
      ]
    }
  ],
  "metadata": {
    "kernelspec": {
      "display_name": "Python",
      "language": "python",
      "name": "conda-env-python-py"
    },
    "language_info": {
      "name": ""
    },
    "colab": {
      "provenance": []
    }
  },
  "nbformat": 4,
  "nbformat_minor": 0
}